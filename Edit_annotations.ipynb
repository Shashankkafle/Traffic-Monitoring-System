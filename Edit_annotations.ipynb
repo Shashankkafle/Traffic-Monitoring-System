{
  "nbformat": 4,
  "nbformat_minor": 0,
  "metadata": {
    "colab": {
      "name": "Edit_annotations.ipynb",
      "provenance": [],
      "collapsed_sections": [],
      "authorship_tag": "ABX9TyOMzIDAKbUQMZEuBoUaV/a7",
      "include_colab_link": true
    },
    "kernelspec": {
      "name": "python3",
      "display_name": "Python 3"
    },
    "language_info": {
      "name": "python"
    }
  },
  "cells": [
    {
      "cell_type": "markdown",
      "metadata": {
        "id": "view-in-github",
        "colab_type": "text"
      },
      "source": [
        "<a href=\"https://colab.research.google.com/github/Shashankkafle/Module-3-Solution/blob/master/Edit_annotations.ipynb\" target=\"_parent\"><img src=\"https://colab.research.google.com/assets/colab-badge.svg\" alt=\"Open In Colab\"/></a>"
      ]
    },
    {
      "cell_type": "code",
      "metadata": {
        "colab": {
          "base_uri": "https://localhost:8080/"
        },
        "id": "UViD4V7sl9z2",
        "outputId": "3b19ec1e-323e-4355-9003-396e93e86b01"
      },
      "source": [
        "]from google.colab import drive\n",
        "drive.mount('/content/drive')"
      ],
      "execution_count": null,
      "outputs": [
        {
          "output_type": "stream",
          "text": [
            "Mounted at /content/drive\n"
          ],
          "name": "stdout"
        }
      ]
    },
    {
      "cell_type": "code",
      "metadata": {
        "colab": {
          "base_uri": "https://localhost:8080/"
        },
        "id": "ankZPtyylPFs",
        "outputId": "705f486b-a272-41aa-c20e-06abd7d02f93"
      },
      "source": [
        "newAnnotation=[]\n",
        "intermediateAnnotation=[]\n",
        "finalAnnotation=[]\n",
        "replacingNum=\"1\"\n",
        "prevChar=\"1\"\n",
        "with open(\"/content/drive/MyDrive/Testing code/Testing annotations/Bicycle000000001053.txt\",\"rt\") as source:\n",
        "\n",
        "  \n",
        "  for character in source:\n",
        "   newAnnotation.append(character)\n",
        "   \n",
        "     \n",
        "for  character in newAnnotation:\n",
        " intermediateChar =character.replace(\"\\n\",\"#\")\n",
        " intermediateAnnotation.append(intermediateChar)\n",
        "print(intermediateAnnotation)\n",
        "counter=0\n",
        "for line in intermediateAnnotation:\n",
        "  for character in line :\n",
        "      if (prevChar==\"#\"and character==\"0\") or counter ==0:\n",
        "        finalAnnotation.append(replacingNum)\n",
        "        print(\"replaced\")\n",
        "      else :\n",
        "        if character == \"#\":\n",
        "         finalAnnotation.append(\"\\n\")\n",
        "        else : \n",
        "         finalAnnotation.append(character)  \n",
        "      counter=counter+1\n",
        "      prevChar=character\n",
        "\n",
        "print(finalAnnotation)    \n",
        "\n"
      ],
      "execution_count": null,
      "outputs": [
        {
          "output_type": "stream",
          "text": [
            "['0 0.2030703 0.5242004 0.1285468 0.1164677#', '0 0.3244765 0.4909785 0.1179843 0.1101193#', '0 0.5623437 0.4895704 0.124125 0.1099284#', '0 0.1146328 0.5047494 0.1180468 0.099284#', '0 0.7791875 0.485704 0.1204062 0.1312649#']\n",
            "replaced\n",
            "replaced\n",
            "replaced\n",
            "replaced\n",
            "replaced\n",
            "['1', ' ', '0', '.', '2', '0', '3', '0', '7', '0', '3', ' ', '0', '.', '5', '2', '4', '2', '0', '0', '4', ' ', '0', '.', '1', '2', '8', '5', '4', '6', '8', ' ', '0', '.', '1', '1', '6', '4', '6', '7', '7', '\\n', '1', ' ', '0', '.', '3', '2', '4', '4', '7', '6', '5', ' ', '0', '.', '4', '9', '0', '9', '7', '8', '5', ' ', '0', '.', '1', '1', '7', '9', '8', '4', '3', ' ', '0', '.', '1', '1', '0', '1', '1', '9', '3', '\\n', '1', ' ', '0', '.', '5', '6', '2', '3', '4', '3', '7', ' ', '0', '.', '4', '8', '9', '5', '7', '0', '4', ' ', '0', '.', '1', '2', '4', '1', '2', '5', ' ', '0', '.', '1', '0', '9', '9', '2', '8', '4', '\\n', '1', ' ', '0', '.', '1', '1', '4', '6', '3', '2', '8', ' ', '0', '.', '5', '0', '4', '7', '4', '9', '4', ' ', '0', '.', '1', '1', '8', '0', '4', '6', '8', ' ', '0', '.', '0', '9', '9', '2', '8', '4', '\\n', '1', ' ', '0', '.', '7', '7', '9', '1', '8', '7', '5', ' ', '0', '.', '4', '8', '5', '7', '0', '4', ' ', '0', '.', '1', '2', '0', '4', '0', '6', '2', ' ', '0', '.', '1', '3', '1', '2', '6', '4', '9', '\\n']\n"
          ],
          "name": "stdout"
        }
      ]
    },
    {
      "cell_type": "code",
      "metadata": {
        "id": "Dr37UgtimWnE"
      },
      "source": [
        "from google.colab import drive\n",
        "drive.mount('/content/drive')"
      ],
      "execution_count": null,
      "outputs": []
    }
  ]
}